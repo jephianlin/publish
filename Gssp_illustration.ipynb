{
 "cells": [
  {
   "cell_type": "code",
   "execution_count": 19,
   "metadata": {},
   "outputs": [],
   "source": [
    "### load the functions\n",
    "load('Zsap.sage')\n",
    "load('Gssp_sequence.sage')\n",
    "### find these files on \n",
    "### https://github.com/jephianlin/publish"
   ]
  },
  {
   "cell_type": "markdown",
   "metadata": {},
   "source": [
    "### Quickstart guide"
   ]
  },
  {
   "cell_type": "code",
   "execution_count": 20,
   "metadata": {},
   "outputs": [
    {
     "data": {
      "text/plain": [
       "(True,\n",
       " [(1, ((1, 0), (0, 2))),\n",
       "  (1, ((2, 0), (0, 3))),\n",
       "  (1, ((2, 1), (1, 3))),\n",
       "  (1, ((3, 0), (0, 4))),\n",
       "  (1, ((0, 4), (4, 1))),\n",
       "  (1, ((1, 4), (4, 2)))])"
      ]
     },
     "execution_count": 20,
     "metadata": {},
     "output_type": "execute_result"
    }
   ],
   "source": [
    "### Gssp_sequence will return\n",
    "### True or False\n",
    "### (whether there is a Gssp sequence\n",
    "###  starting from g and ending with a complete graph), \n",
    "### and a sequence of forces\n",
    "g = graphs.PathGraph(5)\n",
    "Gssp_sequence(g)"
   ]
  },
  {
   "cell_type": "code",
   "execution_count": 21,
   "metadata": {},
   "outputs": [
    {
     "name": "stdout",
     "output_type": "stream",
     "text": [
      "Rule 1: {1,0} --> {0,2}\n",
      "Rule 1: {2,0} --> {0,3}\n",
      "Rule 1: {2,1} --> {1,3}\n",
      "Rule 1: {3,0} --> {0,4}\n",
      "Rule 1: {0,4} --> {4,1}\n",
      "Rule 1: {1,4} --> {4,2}\n"
     ]
    }
   ],
   "source": [
    "### If print_force=True\n",
    "### then typeset the forces\n",
    "g = graphs.PathGraph(5)\n",
    "forces = Gssp_sequence(g, print_force=True)"
   ]
  },
  {
   "cell_type": "markdown",
   "metadata": {},
   "source": [
    "### Example 3.4"
   ]
  },
  {
   "cell_type": "code",
   "execution_count": 29,
   "metadata": {},
   "outputs": [
    {
     "data": {
      "image/png": "[encoded data removed]",
      "text/plain": [
       "Graphics object consisting of 11 graphics primitives"
      ]
     },
     "metadata": {},
     "output_type": "display_data"
    }
   ],
   "source": [
    "V = [1,2,3,4,5]\n",
    "E = [(1,2), (2,3), (3,4), (4,5), (5,3)]\n",
    "g = Graph([V,E])\n",
    "g.show(figsize=[3,3])"
   ]
  },
  {
   "cell_type": "code",
   "execution_count": 30,
   "metadata": {},
   "outputs": [
    {
     "name": "stdout",
     "output_type": "stream",
     "text": [
      "Rule 1: {2,1} --> {1,3}\n",
      "Rule 1: {3,4} --> {4,2}\n",
      "Rule 1: {3,2} --> {2,5}\n",
      "Rule 1: {2,4} --> {4,1}\n",
      "Rule 1: {3,1} --> {1,5}\n"
     ]
    }
   ],
   "source": [
    "forces = Gssp_sequence(g, print_force=True)"
   ]
  },
  {
   "cell_type": "markdown",
   "metadata": {},
   "source": [
    "### Example 3.16"
   ]
  },
  {
   "cell_type": "code",
   "execution_count": 52,
   "metadata": {},
   "outputs": [
    {
     "data": {
      "image/png": "[encoded data removed]",
      "text/plain": [
       "Graphics object consisting of 20 graphics primitives"
      ]
     },
     "metadata": {},
     "output_type": "display_data"
    }
   ],
   "source": [
    "V = [1,2,3,4,5,6,7]\n",
    "E = [(1,2), (2,5), (1,4), (4,7), (1,3), \n",
    "     (3,6), (2,3), (3,4), (2,4), (1,5), (1,6), (1,7)]\n",
    "g = Graph([V,E])\n",
    "pos = {1:[0,0], 2:[-1,0], 3:[0.5,-1], 4:[0.5,1], \n",
    "       5:[-2,0.5], 6:[0.5,-2], 7:[1.5,1.5]}\n",
    "g.set_pos(pos)\n",
    "g.show(figsize=[3,3])"
   ]
  },
  {
   "cell_type": "code",
   "execution_count": 57,
   "metadata": {},
   "outputs": [
    {
     "data": {
      "text/plain": [
       "[-a16    0    0    0    0 -a17]\n",
       "[ a36 -a25    0    0    0    0]\n",
       "[   0 -a15 -a17    0    0    0]\n",
       "[   0    0  a47 -a36    0    0]\n",
       "[   0    0    0 -a16 -a15    0]\n",
       "[   0    0    0    0 -a25  a47]"
      ]
     },
     "execution_count": 57,
     "metadata": {},
     "output_type": "execute_result"
    }
   ],
   "source": [
    "var_a = {(i,j):var('a%s%s'%(i,j)) for i in range(1,8) for j in range(1,8)}\n",
    "M = matrix([\n",
    "    [-var_a[1,6], 0, 0, 0, 0, -var_a[1,7]],\n",
    "    [var_a[3,6], -var_a[2,5], 0, 0, 0, 0],\n",
    "    [0, -var_a[1,5], -var_a[1,7], 0, 0, 0],\n",
    "    [0, 0, var_a[4,7], -var_a[3,6], 0, 0],\n",
    "    [0, 0, 0, -var_a[1,6], -var_a[1,5], 0],\n",
    "    [0, 0, 0, 0, -var_a[2,5], var_a[4,7]]\n",
    "])\n",
    "M"
   ]
  },
  {
   "cell_type": "code",
   "execution_count": 58,
   "metadata": {},
   "outputs": [
    {
     "data": {
      "text/plain": [
       "-2*a15*a16*a17*a25*a36*a47"
      ]
     },
     "execution_count": 58,
     "metadata": {},
     "output_type": "execute_result"
    }
   ],
   "source": [
    "p = M.determinant()\n",
    "p"
   ]
  },
  {
   "cell_type": "markdown",
   "metadata": {},
   "source": [
    "### Example 3.17"
   ]
  },
  {
   "cell_type": "code",
   "execution_count": 66,
   "metadata": {},
   "outputs": [
    {
     "data": {
      "image/png": "[encoded data removed]",
      "text/plain": [
       "Graphics object consisting of 11 graphics primitives"
      ]
     },
     "metadata": {},
     "output_type": "display_data"
    }
   ],
   "source": [
    "V = [1,2,3,4,5]\n",
    "E = [(4,1), (1,2), (2,3), (3,4), (4,5)]\n",
    "g = Graph([V,E])\n",
    "g.show(figsize=[3,3])"
   ]
  },
  {
   "cell_type": "code",
   "execution_count": 67,
   "metadata": {},
   "outputs": [
    {
     "data": {
      "text/plain": [
       "[     -a34      -a45       a12         0         0]\n",
       "[     -a23         0       a14         0         0]\n",
       "[      a12         0      -a34         0         0]\n",
       "[        0 a11 - a55         0       a12         0]\n",
       "[        0       a12      -a45 a22 - a55       a23]"
      ]
     },
     "execution_count": 67,
     "metadata": {},
     "output_type": "execute_result"
    }
   ],
   "source": [
    "var_a = {(i,j):var('a%s%s'%(i,j)) for i in range(1,6) for j in range(1,6)}\n",
    "M = matrix([\n",
    "    [-var_a[3,4], -var_a[4,5], var_a[1,2], 0, 0],\n",
    "    [-var_a[2,3], 0, var_a[1,4], 0, 0],\n",
    "    [var_a[1,2], 0, -var_a[3,4], 0, 0],\n",
    "    [0, var_a[1,1]-var_a[5,5], 0, var_a[1,2], 0],\n",
    "    [0, var_a[1,2], -var_a[4,5], var_a[2,2]-var_a[5,5], var_a[2,3]]\n",
    "])\n",
    "M"
   ]
  },
  {
   "cell_type": "code",
   "execution_count": 68,
   "metadata": {},
   "outputs": [
    {
     "data": {
      "text/plain": [
       "[     -a34      -a45       a12         0         0]\n",
       "[        0 a11 - a55         0       a12         0]\n",
       "[        0       a12      -a45 a22 - a55       a23]\n",
       "[        0       a14         0         0       a34]\n",
       "[     -a14         0       a23         0      -a45]"
      ]
     },
     "execution_count": 68,
     "metadata": {},
     "output_type": "execute_result"
    }
   ],
   "source": [
    "N = matrix([\n",
    "    [-var_a[3,4], -var_a[4,5], var_a[1,2], 0, 0],\n",
    "    [0, var_a[1,1]-var_a[5,5], 0, var_a[1,2], 0],\n",
    "    [0, var_a[1,2], -var_a[4,5], var_a[2,2]-var_a[5,5], var_a[2,3]],\n",
    "    [0, var_a[1,4], 0, 0, var_a[3,4]],\n",
    "    [-var_a[1,4], 0, var_a[2,3], 0, -var_a[4,5]]\n",
    "])\n",
    "N"
   ]
  },
  {
   "cell_type": "code",
   "execution_count": 72,
   "metadata": {},
   "outputs": [
    {
     "name": "stdout",
     "output_type": "stream",
     "text": [
      "det(M) =\n",
      "-(a12*a14 - a23*a34)*a12*a23*a45\n",
      "det(N) =\n",
      "a12^2*a14^2*a23 - a12^3*a14*a34 + a11*a12*a14*a22*a34 - a12*a14*a23^2*a34 + a12^2*a23*a34^2 - a11*a22*a23*a34^2 + 2*a12*a14*a34*a45^2 - a11*a12*a14*a34*a55 - a12*a14*a22*a34*a55 + a11*a23*a34^2*a55 + a22*a23*a34^2*a55 + a12*a14*a34*a55^2 - a23*a34^2*a55^2\n"
     ]
    }
   ],
   "source": [
    "p = M.determinant()\n",
    "q = N.determinant()\n",
    "print(\"det(M) =\")\n",
    "print(factor(p))\n",
    "print(\"det(N) =\")\n",
    "print(factor(q))"
   ]
  },
  {
   "cell_type": "markdown",
   "metadata": {},
   "source": [
    "### Example 4.2"
   ]
  },
  {
   "cell_type": "code",
   "execution_count": 10,
   "metadata": {},
   "outputs": [
    {
     "data": {
      "image/png": "[encoded data removed]",
      "text/plain": [
       "Graphics object consisting of 20 graphics primitives"
      ]
     },
     "metadata": {},
     "output_type": "display_data"
    }
   ],
   "source": [
    "g = Y_graph(4,3,2)\n",
    "g.show(figsize=[4,4])"
   ]
  },
  {
   "cell_type": "code",
   "execution_count": 16,
   "metadata": {},
   "outputs": [
    {
     "name": "stdout",
     "output_type": "stream",
     "text": [
      "Rule 1: {3,4} --> {4,2}\n",
      "Rule 1: {2,3} --> {3,1}\n",
      "Rule 1: {1,2} --> {2,0}\n",
      "Rule 1: {2,4} --> {4,1}\n",
      "Rule 1: {1,3} --> {3,0}\n",
      "Rule 1: {1,4} --> {4,0}\n",
      "Rule 1: {6,7} --> {7,5}\n",
      "Rule 1: {5,6} --> {6,0}\n",
      "Rule 1: {5,7} --> {7,0}\n",
      "Rule 1: {8,9} --> {9,0}\n",
      "Rule 2: 0 --> [1, 5, 8]\n",
      "Rule 3: Y_h^(h) --> Y_h^(h+1)\n",
      "        Y centered at 0 with h = 2\n",
      "        branch1 [1, 2]\n",
      "        branch2 [5, 6]\n",
      "        branch3 [8, 9]\n",
      "Rule 1: {1,9} --> {9,2}\n",
      "Rule 1: {2,8} --> {8,3}\n",
      "Rule 1: {0,3} --> {3,5}\n",
      "Rule 1: {5,2} --> {2,6}\n",
      "Rule 1: {6,1} --> {1,7}\n",
      "Rule 1: {0,7} --> {7,8}\n",
      "Rule 1: {1,7} --> {7,2}\n",
      "Rule 1: {2,6} --> {6,3}\n",
      "Rule 1: {2,7} --> {7,3}\n",
      "Rule 1: {2,9} --> {9,3}\n",
      "Rule 1: {3,5} --> {5,4}\n",
      "Rule 1: {0,4} --> {4,8}\n",
      "Rule 1: {3,6} --> {6,4}\n",
      "Rule 1: {3,7} --> {7,4}\n",
      "Rule 1: {3,9} --> {9,4}\n",
      "Rule 1: {5,9} --> {9,6}\n",
      "Rule 1: {6,9} --> {9,7}\n"
     ]
    }
   ],
   "source": [
    "forces = Gssp_sequence(g, print_force=True)"
   ]
  },
  {
   "cell_type": "markdown",
   "metadata": {},
   "source": [
    "### Example 5.4"
   ]
  },
  {
   "cell_type": "code",
   "execution_count": 118,
   "metadata": {},
   "outputs": [
    {
     "data": {
      "image/png": "[encoded data removed]",
      "text/plain": [
       "Graphics object consisting of 13 graphics primitives"
      ]
     },
     "metadata": {},
     "output_type": "display_data"
    }
   ],
   "source": [
    "V = [1,2,3,4,5,6]\n",
    "E = [(1,2), (2,3), (3,4), (4,1), (3,5), (4,6)]\n",
    "g = Graph([V,E])\n",
    "g.show(figsize=[3,3])"
   ]
  },
  {
   "cell_type": "code",
   "execution_count": 119,
   "metadata": {},
   "outputs": [
    {
     "name": "stdout",
     "output_type": "stream",
     "text": [
      "A circ X = 0: True\n",
      "I circ X = 0: True\n",
      "[A, X] = 0: True\n"
     ]
    }
   ],
   "source": [
    "A98 = matrix([\n",
    "    [0, 2, 0, 1, 0, 0],\n",
    "    [2, 0, 1, 0, 0, 0],\n",
    "    [0, 1, 0, 1, 1, 0],\n",
    "    [1, 0, 1, 0, 0, 1],\n",
    "    [0, 0, 1, 0, 0, 0],\n",
    "    [0, 0, 0, 1, 0, 0]\n",
    "])\n",
    "\n",
    "X98 = matrix([\n",
    "    [0, 0, 1, 0, 0, 1],\n",
    "    [0, 0, 0, 1, 1, 0],\n",
    "    [1, 0, 0, 0, 0, -1],\n",
    "    [0, 1, 0, 0, -1, 0],\n",
    "    [0, 1, 0, -1, 0, 0],\n",
    "    [1, 0, -1, 0, 0, 0]\n",
    "])\n",
    "\n",
    "n = A98.dimensions()[0]\n",
    "\n",
    "print(\"A circ X = 0: %s\"%(A98.elementwise_product(X98)==zero_matrix(n)))\n",
    "print(\"I circ X = 0: %s\"%(identity_matrix(n).elementwise_product(X98)==zero_matrix(n)))\n",
    "print(\"[A, X] = 0: %s\"%(A98*X98 - X98*A98==zero_matrix(n)))"
   ]
  },
  {
   "cell_type": "code",
   "execution_count": 121,
   "metadata": {},
   "outputs": [
    {
     "data": {
      "image/png": "[encoded data removed]",
      "text/plain": [
       "Graphics object consisting of 13 graphics primitives"
      ]
     },
     "metadata": {},
     "output_type": "display_data"
    }
   ],
   "source": [
    "V = [1,2,3,4,5,6]\n",
    "E = [(1,5), (5,2), (2,6), (6,1), (3,5), (4,6)]\n",
    "g = Graph([V,E])\n",
    "g.show(figsize=[3,3])"
   ]
  },
  {
   "cell_type": "code",
   "execution_count": 122,
   "metadata": {
    "scrolled": true
   },
   "outputs": [
    {
     "name": "stdout",
     "output_type": "stream",
     "text": [
      "A circ X = 0: True\n",
      "I circ X = 0: True\n",
      "[A, X] = 0: True\n"
     ]
    }
   ],
   "source": [
    "A99 = matrix([\n",
    "    [0, 0, 0, 0, -1, 1],\n",
    "    [0, 0, 0, 0, 1, 1],\n",
    "    [0, 0, 0, 0, 1, 0],\n",
    "    [0, 0, 0, 0, 0, 1],\n",
    "    [-1, 1, 1, 0, 0, 0],\n",
    "    [1, 1, 0, 1, 0, 0]\n",
    "])\n",
    "\n",
    "X99 = matrix([\n",
    "    [0, 0, 1, -1, 0, 0],\n",
    "    [0, 0, 1, 1, 0, 0],\n",
    "    [1, 1, 0, -1, 0, 0],\n",
    "    [-1, 1, -1, 0, 0, 0],\n",
    "    [0, 0, 0, 0, 0, 1],\n",
    "    [0, 0, 0, 0, 1, 0]\n",
    "])\n",
    "\n",
    "n = A99.dimensions()[0]\n",
    "\n",
    "print(\"A circ X = 0: %s\"%(A99.elementwise_product(X99)==zero_matrix(n)))\n",
    "print(\"I circ X = 0: %s\"%(identity_matrix(n).elementwise_product(X99)==zero_matrix(n)))\n",
    "print(\"[A, X] = 0: %s\"%(A99*X99 - X99*A99==zero_matrix(n)))"
   ]
  },
  {
   "cell_type": "code",
   "execution_count": 142,
   "metadata": {},
   "outputs": [
    {
     "data": {
      "text/plain": [
       "True"
      ]
     },
     "execution_count": 142,
     "metadata": {},
     "output_type": "execute_result"
    }
   ],
   "source": [
    "### Check if Zsap(g) == 0 or not\n",
    "### By Theorem 2.6 of \n",
    "### J. C.-H. Lin. Using a new zero forcing process to guarantee the Strong Arnold Property. Linear Algebra Appl., 507:229--250, 2016,\n",
    "### Zsap(g) == 0 implies that g is in Gsap.\n",
    "find_Zsap(g, oc_rule=True)"
   ]
  },
  {
   "cell_type": "markdown",
   "metadata": {},
   "source": [
    "### Checking unicyclic graphs of order $\\leq 6$"
   ]
  },
  {
   "cell_type": "code",
   "execution_count": 123,
   "metadata": {},
   "outputs": [],
   "source": [
    "### import networkx to access the atlas of graphs\n",
    "### An Atlas of Graphs by Ronald C. Read and Robin J. Wilson, Oxford University Press, 1998\n",
    "import networkx.generators.atlas as atlas"
   ]
  },
  {
   "cell_type": "code",
   "execution_count": 146,
   "metadata": {},
   "outputs": [
    {
     "data": {
      "text/plain": [
       "[[1, 2, 3, 4, 5, 6]]"
      ]
     },
     "execution_count": 146,
     "metadata": {},
     "output_type": "execute_result"
    }
   ],
   "source": [
    "h = g.copy()\n",
    "h.delete_vertex(1)\n",
    "g.connected_components()"
   ]
  },
  {
   "cell_type": "code",
   "execution_count": 148,
   "metadata": {},
   "outputs": [],
   "source": [
    "### Define a function \n",
    "### to check the conditions of Corollary 2.7\n",
    "def cor27(g):\n",
    "    \"\"\"\n",
    "    Input:\n",
    "        g: a unicyclic graph\n",
    "            (this condition will not be checked)\n",
    "    Output:\n",
    "        whether g has a vertex of degree >=4, or \n",
    "        g has a vertex of degree >=3 that is not on the cycle\n",
    "    \"\"\"\n",
    "    for v in g.vertices():\n",
    "        deg = g.degree(v)\n",
    "        if deg >= 4:\n",
    "            return True\n",
    "        elif deg >= 3:\n",
    "            h = g.copy()\n",
    "            h.delete_vertex(v)\n",
    "            ### check if v is on the cycle\n",
    "            if len(h.connected_components()) == deg:\n",
    "                return True\n",
    "    ### when nothing found\n",
    "    return False"
   ]
  },
  {
   "cell_type": "code",
   "execution_count": 149,
   "metadata": {},
   "outputs": [
    {
     "name": "stdout",
     "output_type": "stream",
     "text": [
      "G7: In Gssp (Gssp sequence reaches Kn)\n",
      "G15: In Gssp (Gssp sequence reaches Kn)\n",
      "G16: Not in Gssp (Regular and not complete)\n",
      "G34: Not in Gssp (Cor 2.7 applies)\n",
      "G35: In Gssp (Gssp sequence reaches Kn)\n",
      "G36: In Gssp (Gssp sequence reaches Kn)\n",
      "G37: Not yet classified\n",
      "G38: Not in Gssp (Regular and not complete)\n",
      "G92: Not in Gssp (Cor 2.7 applies)\n",
      "G93: Not in Gssp (Cor 2.7 applies)\n",
      "G94: Not yet classified\n",
      "G95: Not in Gssp (Cor 2.7 applies)\n",
      "G96: Not in Gssp (Cor 2.7 applies)\n",
      "G97: In Gssp (Gssp sequence reaches Kn)\n",
      "G98: Not yet classified\n",
      "G99: Not yet classified\n",
      "G100: Not in Gssp (Cor 2.7 applies)\n",
      "G102: In Gssp (Gssp sequence reaches Kn)\n",
      "G103: Not yet classified\n",
      "G104: Not yet classified\n",
      "G105: Not in Gssp (Regular and not complete)\n"
     ]
    }
   ],
   "source": [
    "left = []\n",
    "for i in range(1,209): ### G209 has 7 vertices\n",
    "    g = Graph(atlas.graph_atlas(i))\n",
    "    n = g.order()\n",
    "    if g.size() == n and g.is_connected():\n",
    "        if Gssp_sequence(g)[0]:\n",
    "            detect = \"In Gssp (Gssp sequence reaches Kn)\"\n",
    "        elif g.is_regular() and g.size() < n*(n-1)/2:\n",
    "            detect = \"Not in Gssp (Regular and not complete)\"\n",
    "        elif cor27(g):\n",
    "            detect = \"Not in Gssp (Cor 2.7 applies)\"\n",
    "        else:\n",
    "            detect = \"Not yet classified\"\n",
    "            left.append(g)\n",
    "        print(\"G%s: %s\"%(i, detect))"
   ]
  },
  {
   "cell_type": "code",
   "execution_count": 151,
   "metadata": {
    "scrolled": false
   },
   "outputs": [],
   "source": [
    "### Recall that \n",
    "### G37 is in Example 3.17\n",
    "### G98 and G99 are in Example 5.4\n",
    "\n",
    "### The remaining unicyclic graphs are G94, G103, G104"
   ]
  },
  {
   "cell_type": "code",
   "execution_count": 153,
   "metadata": {},
   "outputs": [
    {
     "data": {
      "image/png": "[encoded data removed]",
      "text/plain": [
       "Graphics object consisting of 13 graphics primitives"
      ]
     },
     "metadata": {},
     "output_type": "display_data"
    }
   ],
   "source": [
    "g = Graph(atlas.graph_atlas(94))\n",
    "g.show(figsize=[3,3])"
   ]
  },
  {
   "cell_type": "code",
   "execution_count": 157,
   "metadata": {
    "scrolled": true
   },
   "outputs": [
    {
     "data": {
      "image/png": "[encoded data removed]",
      "text/plain": [
       "Graphics object consisting of 13 graphics primitives"
      ]
     },
     "metadata": {},
     "output_type": "display_data"
    }
   ],
   "source": [
    "g = Graph(atlas.graph_atlas(103))\n",
    "g.show(figsize=[3,3])"
   ]
  },
  {
   "cell_type": "code",
   "execution_count": 158,
   "metadata": {},
   "outputs": [
    {
     "data": {
      "image/png": "[encoded data removed]",
      "text/plain": [
       "Graphics object consisting of 13 graphics primitives"
      ]
     },
     "metadata": {},
     "output_type": "display_data"
    }
   ],
   "source": [
    "g = Graph(atlas.graph_atlas(104))\n",
    "g.show(figsize=[3,3])"
   ]
  },
  {
   "cell_type": "code",
   "execution_count": null,
   "metadata": {},
   "outputs": [],
   "source": []
  }
 ],
 "metadata": {
  "kernelspec": {
   "display_name": "SageMath 9.0",
   "language": "sage",
   "name": "sagemath"
  },
  "language_info": {
   "codemirror_mode": {
    "name": "ipython",
    "version": 3
   },
   "file_extension": ".py",
   "mimetype": "text/x-python",
   "name": "python",
   "nbconvert_exporter": "python",
   "pygments_lexer": "ipython3",
   "version": "3.8.1"
  }
 },
 "nbformat": 4,
 "nbformat_minor": 2
}
