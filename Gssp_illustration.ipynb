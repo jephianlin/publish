{
 "cells": [
  {
   "cell_type": "markdown",
   "metadata": {},
   "source": [
    "# Illustration of Gssp_sequence.sage\n",
    "This notebook contains some brief illustrations of the library `Gssp_sequence.sage` and also examples in the paper *The strong spectral property for graphs*.\n",
    "\n",
    "This notebook is created by Jephian Lin."
   ]
  },
  {
   "cell_type": "code",
   "execution_count": 1,
   "metadata": {},
   "outputs": [],
   "source": [
    "### load the functions\n",
    "load('Zsap.sage')\n",
    "load('Gssp_sequence.sage')\n",
    "### find these files on \n",
    "### https://github.com/jephianlin/publish"
   ]
  },
  {
   "cell_type": "markdown",
   "metadata": {},
   "source": [
    "### Quickstart guide"
   ]
  },
  {
   "cell_type": "code",
   "execution_count": 2,
   "metadata": {},
   "outputs": [
    {
     "data": {
      "text/plain": [
       "(True,\n",
       " [(1, ((1, 0), (0, 2))),\n",
       "  (1, ((2, 0), (0, 3))),\n",
       "  (1, ((2, 1), (1, 3))),\n",
       "  (1, ((3, 0), (0, 4))),\n",
       "  (1, ((0, 4), (4, 1))),\n",
       "  (1, ((1, 4), (4, 2)))])"
      ]
     },
     "execution_count": 2,
     "metadata": {},
     "output_type": "execute_result"
    }
   ],
   "source": [
    "### Gssp_sequence will return\n",
    "### True or False\n",
    "### (whether there is a Gssp sequence\n",
    "###  starting from g and ending with a complete graph), \n",
    "### and a sequence of forces\n",
    "g = graphs.PathGraph(5)\n",
    "Gssp_sequence(g)"
   ]
  },
  {
   "cell_type": "code",
   "execution_count": 3,
   "metadata": {},
   "outputs": [
    {
     "name": "stdout",
     "output_type": "stream",
     "text": [
      "Rule 1: {1,0} --> {0,2}\n",
      "Rule 1: {2,0} --> {0,3}\n",
      "Rule 1: {2,1} --> {1,3}\n",
      "Rule 1: {3,0} --> {0,4}\n",
      "Rule 1: {0,4} --> {4,1}\n",
      "Rule 1: {1,4} --> {4,2}\n"
     ]
    }
   ],
   "source": [
    "### If print_force=True\n",
    "### then typeset the forces\n",
    "g = graphs.PathGraph(5)\n",
    "forces = Gssp_sequence(g, print_force=True)"
   ]
  },
  {
   "cell_type": "markdown",
   "metadata": {},
   "source": [
    "### Example 3.4"
   ]
  },
  {
   "cell_type": "code",
   "execution_count": 8,
   "metadata": {},
   "outputs": [
    {
     "data": {
      "image/png": "[encoded data removed]",
      "text/plain": [
       "Graphics object consisting of 11 graphics primitives"
      ]
     },
     "metadata": {},
     "output_type": "display_data"
    }
   ],
   "source": [
    "V = [1,2,3,4,5]\n",
    "E = [(1,2), (2,3), (3,4), (4,5), (5,3)]\n",
    "g = Graph([V,E])\n",
    "g.show(figsize=[3,3])"
   ]
  },
  {
   "cell_type": "code",
   "execution_count": 5,
   "metadata": {},
   "outputs": [
    {
     "name": "stdout",
     "output_type": "stream",
     "text": [
      "Rule 1: {2,1} --> {1,3}\n",
      "Rule 1: {3,4} --> {4,2}\n",
      "Rule 1: {3,2} --> {2,5}\n",
      "Rule 1: {2,4} --> {4,1}\n",
      "Rule 1: {3,1} --> {1,5}\n"
     ]
    }
   ],
   "source": [
    "forces = Gssp_sequence(g, print_force=True)"
   ]
  },
  {
   "cell_type": "markdown",
   "metadata": {},
   "source": [
    "### Example 3.16"
   ]
  },
  {
   "cell_type": "code",
   "execution_count": 9,
   "metadata": {},
   "outputs": [
    {
     "data": {
      "image/png": "[encoded data removed]",
      "text/plain": [
       "Graphics object consisting of 20 graphics primitives"
      ]
     },
     "metadata": {},
     "output_type": "display_data"
    }
   ],
   "source": [
    "V = [1,2,3,4,5,6,7]\n",
    "E = [(1,2), (2,5), (1,4), (4,7), (1,3), \n",
    "     (3,6), (2,3), (3,4), (2,4), (1,5), (1,6), (1,7)]\n",
    "g = Graph([V,E])\n",
    "pos = {1:[0,0], 2:[-1,0], 3:[0.5,-1], 4:[0.5,1], \n",
    "       5:[-2,0.5], 6:[0.5,-2], 7:[1.5,1.5]}\n",
    "g.set_pos(pos)\n",
    "g.show(figsize=[3,3])"
   ]
  },
  {
   "cell_type": "code",
   "execution_count": 10,
   "metadata": {},
   "outputs": [
    {
     "data": {
      "text/plain": [
       "[-a16    0    0    0    0 -a17]\n",
       "[ a36 -a25    0    0    0    0]\n",
       "[   0 -a15 -a17    0    0    0]\n",
       "[   0    0  a47 -a36    0    0]\n",
       "[   0    0    0 -a16 -a15    0]\n",
       "[   0    0    0    0 -a25  a47]"
      ]
     },
     "execution_count": 10,
     "metadata": {},
     "output_type": "execute_result"
    }
   ],
   "source": [
    "var_a = {(i,j):var('a%s%s'%(i,j)) for i in range(1,8) for j in range(1,8)}\n",
    "M = matrix([\n",
    "    [-var_a[1,6], 0, 0, 0, 0, -var_a[1,7]],\n",
    "    [var_a[3,6], -var_a[2,5], 0, 0, 0, 0],\n",
    "    [0, -var_a[1,5], -var_a[1,7], 0, 0, 0],\n",
    "    [0, 0, var_a[4,7], -var_a[3,6], 0, 0],\n",
    "    [0, 0, 0, -var_a[1,6], -var_a[1,5], 0],\n",
    "    [0, 0, 0, 0, -var_a[2,5], var_a[4,7]]\n",
    "])\n",
    "M"
   ]
  },
  {
   "cell_type": "code",
   "execution_count": 11,
   "metadata": {},
   "outputs": [
    {
     "data": {
      "text/plain": [
       "-2*a15*a16*a17*a25*a36*a47"
      ]
     },
     "execution_count": 11,
     "metadata": {},
     "output_type": "execute_result"
    }
   ],
   "source": [
    "p = M.determinant()\n",
    "p"
   ]
  },
  {
   "cell_type": "markdown",
   "metadata": {},
   "source": [
    "### Example 3.17"
   ]
  },
  {
   "cell_type": "code",
   "execution_count": 35,
   "metadata": {},
   "outputs": [
    {
     "data": {
      "image/png": "[encoded data removed]",
      "text/plain": [
       "Graphics object consisting of 11 graphics primitives"
      ]
     },
     "metadata": {},
     "output_type": "display_data"
    }
   ],
   "source": [
    "V = [1,2,3,4,5]\n",
    "E = [(4,1), (1,2), (2,3), (3,4), (4,5)]\n",
    "g = Graph([V,E])\n",
    "g.show(figsize=[3,3])"
   ]
  },
  {
   "cell_type": "code",
   "execution_count": 36,
   "metadata": {},
   "outputs": [
    {
     "data": {
      "text/plain": [
       "[     -a34      -a45       a12         0         0]\n",
       "[     -a23         0       a14         0         0]\n",
       "[      a12         0      -a34         0         0]\n",
       "[        0 a11 - a55         0       a12         0]\n",
       "[        0       a12      -a45 a22 - a55       a23]"
      ]
     },
     "execution_count": 36,
     "metadata": {},
     "output_type": "execute_result"
    }
   ],
   "source": [
    "var_a = {(i,j):var('a%s%s'%(i,j)) for i in range(1,6) for j in range(1,6)}\n",
    "M = matrix([\n",
    "    [-var_a[3,4], -var_a[4,5], var_a[1,2], 0, 0],\n",
    "    [-var_a[2,3], 0, var_a[1,4], 0, 0],\n",
    "    [var_a[1,2], 0, -var_a[3,4], 0, 0],\n",
    "    [0, var_a[1,1]-var_a[5,5], 0, var_a[1,2], 0],\n",
    "    [0, var_a[1,2], -var_a[4,5], var_a[2,2]-var_a[5,5], var_a[2,3]]\n",
    "])\n",
    "M"
   ]
  },
  {
   "cell_type": "code",
   "execution_count": 37,
   "metadata": {},
   "outputs": [
    {
     "data": {
      "text/plain": [
       "[     -a34      -a45       a12         0         0]\n",
       "[        0 a11 - a55         0       a12         0]\n",
       "[        0       a12      -a45 a22 - a55       a23]\n",
       "[        0       a14         0         0       a34]\n",
       "[     -a14         0       a23         0      -a45]"
      ]
     },
     "execution_count": 37,
     "metadata": {},
     "output_type": "execute_result"
    }
   ],
   "source": [
    "N = matrix([\n",
    "    [-var_a[3,4], -var_a[4,5], var_a[1,2], 0, 0],\n",
    "    [0, var_a[1,1]-var_a[5,5], 0, var_a[1,2], 0],\n",
    "    [0, var_a[1,2], -var_a[4,5], var_a[2,2]-var_a[5,5], var_a[2,3]],\n",
    "    [0, var_a[1,4], 0, 0, var_a[3,4]],\n",
    "    [-var_a[1,4], 0, var_a[2,3], 0, -var_a[4,5]]\n",
    "])\n",
    "N"
   ]
  },
  {
   "cell_type": "code",
   "execution_count": 38,
   "metadata": {},
   "outputs": [
    {
     "name": "stdout",
     "output_type": "stream",
     "text": [
      "det(M) =\n",
      "-(a12*a14 - a23*a34)*a12*a23*a45\n",
      "det(N) =\n",
      "a12^2*a14^2*a23 - a12^3*a14*a34 + a11*a12*a14*a22*a34 - a12*a14*a23^2*a34 + a12^2*a23*a34^2 - a11*a22*a23*a34^2 + 2*a12*a14*a34*a45^2 - a11*a12*a14*a34*a55 - a12*a14*a22*a34*a55 + a11*a23*a34^2*a55 + a22*a23*a34^2*a55 + a12*a14*a34*a55^2 - a23*a34^2*a55^2\n"
     ]
    }
   ],
   "source": [
    "p = M.determinant()\n",
    "q = N.determinant()\n",
    "print(\"det(M) =\")\n",
    "print(factor(p))\n",
    "print(\"det(N) =\")\n",
    "print(factor(q))"
   ]
  },
  {
   "cell_type": "code",
   "execution_count": 39,
   "metadata": {},
   "outputs": [
    {
     "data": {
      "text/plain": [
       "2*a23*a34^2*a45^2"
      ]
     },
     "execution_count": 39,
     "metadata": {},
     "output_type": "execute_result"
    }
   ],
   "source": [
    "### let a14 = (a23*a34)/a12\n",
    "### this means that \n",
    "### det(M) and det(N) cannot be zero simultaneously\n",
    "q.subs(a14 = (a23*a34)/a12)"
   ]
  },
  {
   "cell_type": "markdown",
   "metadata": {},
   "source": [
    "### Example 4.2"
   ]
  },
  {
   "cell_type": "code",
   "execution_count": 57,
   "metadata": {},
   "outputs": [
    {
     "data": {
      "image/png": "[encoded data removed]",
      "text/plain": [
       "Graphics object consisting of 20 graphics primitives"
      ]
     },
     "metadata": {},
     "output_type": "display_data"
    }
   ],
   "source": [
    "g = Y_graph(4,3,2)\n",
    "g.show(figsize=[4,4])"
   ]
  },
  {
   "cell_type": "code",
   "execution_count": 58,
   "metadata": {},
   "outputs": [
    {
     "name": "stdout",
     "output_type": "stream",
     "text": [
      "Rule 1: {3,4} --> {4,2}\n",
      "Rule 1: {2,3} --> {3,1}\n",
      "Rule 1: {1,2} --> {2,0}\n",
      "Rule 1: {2,4} --> {4,1}\n",
      "Rule 1: {1,3} --> {3,0}\n",
      "Rule 1: {1,4} --> {4,0}\n",
      "Rule 1: {6,7} --> {7,5}\n",
      "Rule 1: {5,6} --> {6,0}\n",
      "Rule 1: {5,7} --> {7,0}\n",
      "Rule 1: {8,9} --> {9,0}\n",
      "Rule 2: 0 --> [1, 5, 8]\n",
      "Rule 3: Y_h^(h) --> Y_h^(h+1)\n",
      "        Y centered at 0 with h = 2\n",
      "        branch1 [1, 2]\n",
      "        branch2 [5, 6]\n",
      "        branch3 [8, 9]\n",
      "Rule 1: {1,9} --> {9,2}\n",
      "Rule 1: {2,8} --> {8,3}\n",
      "Rule 1: {0,3} --> {3,5}\n",
      "Rule 1: {5,2} --> {2,6}\n",
      "Rule 1: {6,1} --> {1,7}\n",
      "Rule 1: {0,7} --> {7,8}\n",
      "Rule 1: {1,7} --> {7,2}\n",
      "Rule 1: {2,6} --> {6,3}\n",
      "Rule 1: {2,7} --> {7,3}\n",
      "Rule 1: {2,9} --> {9,3}\n",
      "Rule 1: {3,5} --> {5,4}\n",
      "Rule 1: {0,4} --> {4,8}\n",
      "Rule 1: {3,6} --> {6,4}\n",
      "Rule 1: {3,7} --> {7,4}\n",
      "Rule 1: {3,9} --> {9,4}\n",
      "Rule 1: {5,9} --> {9,6}\n",
      "Rule 1: {6,9} --> {9,7}\n"
     ]
    }
   ],
   "source": [
    "forces = Gssp_sequence(g, print_force=True)"
   ]
  },
  {
   "cell_type": "markdown",
   "metadata": {},
   "source": [
    "### Example 5.4"
   ]
  },
  {
   "cell_type": "code",
   "execution_count": 73,
   "metadata": {},
   "outputs": [
    {
     "data": {
      "image/png": "[encoded data removed]",
      "text/plain": [
       "Graphics object consisting of 13 graphics primitives"
      ]
     },
     "metadata": {},
     "output_type": "display_data"
    }
   ],
   "source": [
    "V = [1,2,3,4,5,6]\n",
    "E = [(1,2), (2,3), (3,4), (4,1), (3,5), (4,6)]\n",
    "g = Graph([V,E])\n",
    "g.show(figsize=[3,3])"
   ]
  },
  {
   "cell_type": "code",
   "execution_count": 74,
   "metadata": {},
   "outputs": [
    {
     "name": "stdout",
     "output_type": "stream",
     "text": [
      "A circ X = 0: True\n",
      "I circ X = 0: True\n",
      "[A, X] = 0: True\n"
     ]
    }
   ],
   "source": [
    "A98 = matrix([\n",
    "    [0, 2, 0, 1, 0, 0],\n",
    "    [2, 0, 1, 0, 0, 0],\n",
    "    [0, 1, 0, 1, 1, 0],\n",
    "    [1, 0, 1, 0, 0, 1],\n",
    "    [0, 0, 1, 0, 0, 0],\n",
    "    [0, 0, 0, 1, 0, 0]\n",
    "])\n",
    "\n",
    "X98 = matrix([\n",
    "    [0, 0, 1, 0, 0, 1],\n",
    "    [0, 0, 0, 1, 1, 0],\n",
    "    [1, 0, 0, 0, 0, -1],\n",
    "    [0, 1, 0, 0, -1, 0],\n",
    "    [0, 1, 0, -1, 0, 0],\n",
    "    [1, 0, -1, 0, 0, 0]\n",
    "])\n",
    "\n",
    "n = A98.dimensions()[0]\n",
    "\n",
    "print(\"A circ X = 0: %s\"%(A98.elementwise_product(X98)==zero_matrix(n)))\n",
    "print(\"I circ X = 0: %s\"%(identity_matrix(n).elementwise_product(X98)==zero_matrix(n)))\n",
    "print(\"[A, X] = 0: %s\"%(A98*X98 - X98*A98==zero_matrix(n)))"
   ]
  },
  {
   "cell_type": "code",
   "execution_count": 76,
   "metadata": {},
   "outputs": [
    {
     "data": {
      "image/png": "[encoded data removed]",
      "text/plain": [
       "Graphics object consisting of 13 graphics primitives"
      ]
     },
     "metadata": {},
     "output_type": "display_data"
    }
   ],
   "source": [
    "V = [1,2,3,4,5,6]\n",
    "E = [(1,5), (5,2), (2,6), (6,1), (3,5), (4,6)]\n",
    "g = Graph([V,E])\n",
    "g.show(figsize=[3,3])"
   ]
  },
  {
   "cell_type": "code",
   "execution_count": 77,
   "metadata": {
    "scrolled": true
   },
   "outputs": [
    {
     "name": "stdout",
     "output_type": "stream",
     "text": [
      "A circ X = 0: True\n",
      "I circ X = 0: True\n",
      "[A, X] = 0: True\n"
     ]
    }
   ],
   "source": [
    "A99 = matrix([\n",
    "    [0, 0, 0, 0, -1, 1],\n",
    "    [0, 0, 0, 0, 1, 1],\n",
    "    [0, 0, 0, 0, 1, 0],\n",
    "    [0, 0, 0, 0, 0, 1],\n",
    "    [-1, 1, 1, 0, 0, 0],\n",
    "    [1, 1, 0, 1, 0, 0]\n",
    "])\n",
    "\n",
    "X99 = matrix([\n",
    "    [0, 0, 1, -1, 0, 0],\n",
    "    [0, 0, 1, 1, 0, 0],\n",
    "    [1, 1, 0, -1, 0, 0],\n",
    "    [-1, 1, -1, 0, 0, 0],\n",
    "    [0, 0, 0, 0, 0, 1],\n",
    "    [0, 0, 0, 0, 1, 0]\n",
    "])\n",
    "\n",
    "n = A99.dimensions()[0]\n",
    "\n",
    "print(\"A circ X = 0: %s\"%(A99.elementwise_product(X99)==zero_matrix(n)))\n",
    "print(\"I circ X = 0: %s\"%(identity_matrix(n).elementwise_product(X99)==zero_matrix(n)))\n",
    "print(\"[A, X] = 0: %s\"%(A99*X99 - X99*A99==zero_matrix(n)))"
   ]
  },
  {
   "cell_type": "code",
   "execution_count": 78,
   "metadata": {},
   "outputs": [
    {
     "data": {
      "text/plain": [
       "True"
      ]
     },
     "execution_count": 78,
     "metadata": {},
     "output_type": "execute_result"
    }
   ],
   "source": [
    "### Check if Zsap(g) == 0 or not\n",
    "### By Theorem 2.6 of \n",
    "### J. C.-H. Lin. Using a new zero forcing process to guarantee the Strong Arnold Property. Linear Algebra Appl., 507:229--250, 2016,\n",
    "### Zsap(g) == 0 implies that g is in Gsap.\n",
    "find_Zsap(g, oc_rule=True)"
   ]
  },
  {
   "cell_type": "markdown",
   "metadata": {},
   "source": [
    "### Checking unicyclic graphs of order $\\leq 6$"
   ]
  },
  {
   "cell_type": "code",
   "execution_count": 79,
   "metadata": {},
   "outputs": [],
   "source": [
    "### import networkx to access the atlas of graphs\n",
    "### An Atlas of Graphs by Ronald C. Read and Robin J. Wilson, Oxford University Press, 1998\n",
    "import networkx as nx\n",
    "atlas = [Graph([list(nxg.nodes), list(nxg.edges)]) \n",
    "         for nxg in nx.generators.atlas.graph_atlas_g()]"
   ]
  },
  {
   "cell_type": "code",
   "execution_count": 80,
   "metadata": {},
   "outputs": [],
   "source": [
    "### Define a function \n",
    "### to check the conditions of Corollary 2.7\n",
    "def cor27(g):\n",
    "    \"\"\"\n",
    "    Input:\n",
    "        g: a unicyclic graph\n",
    "            (this condition will not be checked)\n",
    "    Output:\n",
    "        whether g has a vertex of degree >=4, or \n",
    "        g has a vertex of degree >=3 that is not on the cycle\n",
    "    \"\"\"\n",
    "    for v in g.vertices():\n",
    "        deg = g.degree(v)\n",
    "        if deg >= 4:\n",
    "            return True\n",
    "        elif deg >= 3:\n",
    "            h = g.copy()\n",
    "            h.delete_vertex(v)\n",
    "            ### check if v is on the cycle\n",
    "            if len(h.connected_components()) == deg:\n",
    "                return True\n",
    "    ### when nothing found\n",
    "    return False"
   ]
  },
  {
   "cell_type": "code",
   "execution_count": 81,
   "metadata": {},
   "outputs": [
    {
     "name": "stdout",
     "output_type": "stream",
     "text": [
      "G7: In Gssp (Gssp sequence reaches Kn)\n",
      "G15: In Gssp (Gssp sequence reaches Kn)\n",
      "G16: Not in Gssp (Regular and not complete)\n",
      "G34: Not in Gssp (Cor 2.7 applies)\n",
      "G35: In Gssp (Gssp sequence reaches Kn)\n",
      "G36: In Gssp (Gssp sequence reaches Kn)\n",
      "G37: Not yet classified\n",
      "G38: Not in Gssp (Regular and not complete)\n",
      "G92: Not in Gssp (Cor 2.7 applies)\n",
      "G93: Not in Gssp (Cor 2.7 applies)\n",
      "G94: Not yet classified\n",
      "G95: Not in Gssp (Cor 2.7 applies)\n",
      "G96: Not in Gssp (Cor 2.7 applies)\n",
      "G97: In Gssp (Gssp sequence reaches Kn)\n",
      "G98: Not yet classified\n",
      "G99: Not yet classified\n",
      "G100: Not in Gssp (Cor 2.7 applies)\n",
      "G102: In Gssp (Gssp sequence reaches Kn)\n",
      "G103: Not yet classified\n",
      "G104: Not yet classified\n",
      "G105: Not in Gssp (Regular and not complete)\n"
     ]
    }
   ],
   "source": [
    "left = []\n",
    "for i in range(1,209): ### G209 has 7 vertices\n",
    "    g = atlas[i]\n",
    "    n = g.order()\n",
    "    if g.size() == n and g.is_connected():\n",
    "        if Gssp_sequence(g)[0]:\n",
    "            detect = \"In Gssp (Gssp sequence reaches Kn)\"\n",
    "        elif g.is_regular() and g.size() < n*(n-1)/2:\n",
    "            detect = \"Not in Gssp (Regular and not complete)\"\n",
    "        elif cor27(g):\n",
    "            detect = \"Not in Gssp (Cor 2.7 applies)\"\n",
    "        else:\n",
    "            detect = \"Not yet classified\"\n",
    "            left.append(g)\n",
    "        print(\"G%s: %s\"%(i, detect))"
   ]
  },
  {
   "cell_type": "code",
   "execution_count": 82,
   "metadata": {
    "scrolled": false
   },
   "outputs": [],
   "source": [
    "### Recall that \n",
    "### G37 is in Example 3.17 (In Gssp)\n",
    "### G98 and G99 are in Example 5.4 (Not in Gssp)\n",
    "\n",
    "### The remaining unicyclic graphs are G94, G103, G104\n",
    "### The code below verifies that they are in Gssp"
   ]
  },
  {
   "cell_type": "markdown",
   "metadata": {},
   "source": [
    "#### `G94` is in Gssp"
   ]
  },
  {
   "cell_type": "code",
   "execution_count": 83,
   "metadata": {},
   "outputs": [
    {
     "data": {
      "image/png": "[encoded data removed]",
      "text/plain": [
       "Graphics object consisting of 13 graphics primitives"
      ]
     },
     "metadata": {},
     "output_type": "display_data"
    }
   ],
   "source": [
    "g = atlas[94]\n",
    "# V = [0, 1, 2, 3, 4, 5]\n",
    "# E = [(0, 4), (1, 5), (2, 3), (3, 4), (3, 5), (4, 5)]\n",
    "# g = Graph([V, E])\n",
    "g.show(figsize=[3,3])"
   ]
  },
  {
   "cell_type": "code",
   "execution_count": 84,
   "metadata": {},
   "outputs": [
    {
     "data": {
      "text/plain": [
       "[      0       0       0    a0_4       0       0   -a1_5       0       0]\n",
       "[      0       0       0       0       0   -a3_5   -a4_5       0       0]\n",
       "[      0       0   -a3_4   -a4_5       0       0       0       0       0]\n",
       "[      0       0       0       0       0       0       0   -a3_4   -a3_5]\n",
       "[      0       0   -a0_4       0       0       0       0    a2_3       0]\n",
       "[      0       0       0       0       0   -a1_5       0       0    a2_3]\n",
       "[      0       0       0       0   -a1_5       0       0   -a4_5 d2 - d5]\n",
       "[  -a0_4       0       0       0       0   -a3_4 d1 - d4       0       0]\n",
       "[      0   -a0_4       0       0       0       0       0 d2 - d4   -a4_5]"
      ]
     },
     "execution_count": 84,
     "metadata": {},
     "output_type": "execute_result"
    }
   ],
   "source": [
    "### Similar to the technique in Example 3.16\n",
    "### we are looking for the equations (AX-XA)_{i,j} for i,j in alpha\n",
    "alpha = [(4,5), (1,5), (0,4), (2,3), (3,4), (3,5), (2,5), (1,4), (2,4)]\n",
    "### functions to build the eqations\n",
    "### see Gssp_sequence.sage for \n",
    "### the source code of SSPmatrix and var_matrix\n",
    "Psi, rind, cind = SSPmatrix(var_matrix(g), True)\n",
    "alpha_num = [rind[e] for e in alpha]\n",
    "M = Psi[alpha_num,:]\n",
    "M"
   ]
  },
  {
   "cell_type": "code",
   "execution_count": 85,
   "metadata": {},
   "outputs": [
    {
     "data": {
      "text/plain": [
       "-2*a0_4^3*a1_5^2*a2_3*a3_4*a3_5*a4_5"
      ]
     },
     "execution_count": 85,
     "metadata": {},
     "output_type": "execute_result"
    }
   ],
   "source": [
    "p = M.determinant()\n",
    "p"
   ]
  },
  {
   "cell_type": "markdown",
   "metadata": {},
   "source": [
    "#### `G103` is in Gssp"
   ]
  },
  {
   "cell_type": "code",
   "execution_count": 86,
   "metadata": {
    "scrolled": true
   },
   "outputs": [
    {
     "data": {
      "image/png": "[encoded data removed]",
      "text/plain": [
       "Graphics object consisting of 13 graphics primitives"
      ]
     },
     "metadata": {},
     "output_type": "display_data"
    }
   ],
   "source": [
    "g = atlas[103]\n",
    "# V = [0, 1, 2, 3, 4, 5]\n",
    "# E = [(0, 4), (0, 5), (1, 3), (1, 4), (2, 3), (2, 4)]\n",
    "# g = Graph([V, E])\n",
    "g.show(figsize=[3,3])"
   ]
  },
  {
   "cell_type": "code",
   "execution_count": 87,
   "metadata": {},
   "outputs": [],
   "source": [
    "### Similar to the technique in Example 3.17\n",
    "### we are looking for \n",
    "### the equations (AX-XA)_{i,j} for i,j in alpha_s\n",
    "### for s = 1,2,3\n",
    "alpha1 = [(1, 3), (2, 3), (3, 4), (0, 5), (1, 5), (0, 1), (1, 4), (0, 4), (4, 5)]\n",
    "alpha2 = [(1, 3), (3, 4), (0, 5), (0, 2), (1, 5), (2, 4), (1, 4), (0, 4), (4, 5)]\n",
    "alpha3 = [(1, 3), (0, 5), (0, 3), (0, 2), (1, 5), (0, 1), (1, 4), (0, 4), (4, 5)]\n",
    "\n",
    "### functions to build the eqations\n",
    "### see Gssp_sequence.sage for \n",
    "### the source code of SSPmatrix and var_matrix\n",
    "Psi, rind, cind = SSPmatrix(var_matrix(g), True)\n",
    "\n",
    "alpha_num1 = [rind[e] for e in alpha1]\n",
    "alpha_num2 = [rind[e] for e in alpha2]\n",
    "alpha_num3 = [rind[e] for e in alpha3]"
   ]
  },
  {
   "cell_type": "markdown",
   "metadata": {},
   "source": [
    "First look at `alpha1`."
   ]
  },
  {
   "cell_type": "code",
   "execution_count": 88,
   "metadata": {},
   "outputs": [
    {
     "data": {
      "text/plain": [
       "[      0       0       0   -a2_3       0       0    a1_4       0       0]\n",
       "[      0       0       0   -a1_3       0       0    a2_4       0       0]\n",
       "[      0       0   -a0_4       0       0       0 d3 - d4       0       0]\n",
       "[      0       0       0       0       0       0       0       0    a0_4]\n",
       "[  -a0_5       0       0       0 d1 - d5       0       0    a1_3    a1_4]\n",
       "[d0 - d1       0   -a1_3       0    a0_5       0       0       0       0]\n",
       "[  -a0_4       0       0   -a2_4       0       0    a1_3       0       0]\n",
       "[  -a1_4   -a2_4       0       0       0       0       0       0    a0_5]\n",
       "[      0       0       0       0    a1_4    a2_4       0       0 d4 - d5]"
      ]
     },
     "execution_count": 88,
     "metadata": {},
     "output_type": "execute_result"
    }
   ],
   "source": [
    "M = Psi[alpha_num1,:]\n",
    "M"
   ]
  },
  {
   "cell_type": "code",
   "execution_count": 89,
   "metadata": {},
   "outputs": [
    {
     "data": {
      "text/plain": [
       "(a1_3*a1_4 - a2_3*a2_4)*a0_4^3*a0_5*a1_3*a2_4^2"
      ]
     },
     "execution_count": 89,
     "metadata": {},
     "output_type": "execute_result"
    }
   ],
   "source": [
    "p = M.determinant()\n",
    "factor(p)"
   ]
  },
  {
   "cell_type": "markdown",
   "metadata": {},
   "source": [
    "If `a1_3*a1_4 - a2_3*a2_4 != 0`, then we are done.  \n",
    "Now assume `a1_3 = (a2_3*a2_4)/a1_4`  \n",
    "and look at `alpha2`. "
   ]
  },
  {
   "cell_type": "code",
   "execution_count": 90,
   "metadata": {},
   "outputs": [
    {
     "data": {
      "text/plain": [
       "[      0       0       0   -a2_3       0       0    a1_4       0       0]\n",
       "[      0       0   -a0_4       0       0       0 d3 - d4       0       0]\n",
       "[      0       0       0       0       0       0       0       0    a0_4]\n",
       "[      0 d0 - d2   -a2_3       0       0    a0_5       0       0       0]\n",
       "[  -a0_5       0       0       0 d1 - d5       0       0    a1_3    a1_4]\n",
       "[      0   -a0_4       0   -a1_4       0       0    a2_3       0       0]\n",
       "[  -a0_4       0       0   -a2_4       0       0    a1_3       0       0]\n",
       "[  -a1_4   -a2_4       0       0       0       0       0       0    a0_5]\n",
       "[      0       0       0       0    a1_4    a2_4       0       0 d4 - d5]"
      ]
     },
     "execution_count": 90,
     "metadata": {},
     "output_type": "execute_result"
    }
   ],
   "source": [
    "M = Psi[alpha_num2,:]\n",
    "M"
   ]
  },
  {
   "cell_type": "code",
   "execution_count": 91,
   "metadata": {},
   "outputs": [
    {
     "data": {
      "text/plain": [
       "2*a0_4^3*a0_5*(a1_4 + a2_3)*(a1_4 - a2_3)*a2_3*a2_4^2"
      ]
     },
     "execution_count": 91,
     "metadata": {},
     "output_type": "execute_result"
    }
   ],
   "source": [
    "p = M.determinant()\n",
    "factor(p.subs(a1_3 = (a2_3*a2_4)/a1_4))"
   ]
  },
  {
   "cell_type": "markdown",
   "metadata": {},
   "source": [
    "If `(a1_4 + a2_3)*(a1_4 - a2_3) != 0`, then we are done.  \n",
    "Now assume `a1_4 = -a2_3` or `a1_4 = a2_3`  \n",
    "and look at `alpha3`. "
   ]
  },
  {
   "cell_type": "code",
   "execution_count": 92,
   "metadata": {},
   "outputs": [
    {
     "data": {
      "text/plain": [
       "[      0       0       0   -a2_3       0       0    a1_4       0       0]\n",
       "[      0       0       0       0       0       0       0       0    a0_4]\n",
       "[  -a1_3   -a2_3 d0 - d3       0       0       0    a0_4    a0_5       0]\n",
       "[      0 d0 - d2   -a2_3       0       0    a0_5       0       0       0]\n",
       "[  -a0_5       0       0       0 d1 - d5       0       0    a1_3    a1_4]\n",
       "[d0 - d1       0   -a1_3       0    a0_5       0       0       0       0]\n",
       "[  -a0_4       0       0   -a2_4       0       0    a1_3       0       0]\n",
       "[  -a1_4   -a2_4       0       0       0       0       0       0    a0_5]\n",
       "[      0       0       0       0    a1_4    a2_4       0       0 d4 - d5]"
      ]
     },
     "execution_count": 92,
     "metadata": {},
     "output_type": "execute_result"
    }
   ],
   "source": [
    "M = Psi[alpha_num3,:]\n",
    "M"
   ]
  },
  {
   "cell_type": "code",
   "execution_count": 93,
   "metadata": {},
   "outputs": [
    {
     "data": {
      "text/plain": [
       "2*a0_4^3*a0_5*a2_3^2*a2_4^3"
      ]
     },
     "execution_count": 93,
     "metadata": {},
     "output_type": "execute_result"
    }
   ],
   "source": [
    "p = M.determinant()\n",
    "factor(p.subs(a1_3 = (a2_3*a2_4)/a1_4).subs(a1_4 = -a2_3))"
   ]
  },
  {
   "cell_type": "code",
   "execution_count": 94,
   "metadata": {},
   "outputs": [
    {
     "data": {
      "text/plain": [
       "-2*a0_4^3*a0_5*a2_3^2*a2_4^3"
      ]
     },
     "execution_count": 94,
     "metadata": {},
     "output_type": "execute_result"
    }
   ],
   "source": [
    "p = M.determinant()\n",
    "factor(p.subs(a1_3 = (a2_3*a2_4)/a1_4).subs(a1_4 = a2_3))"
   ]
  },
  {
   "cell_type": "markdown",
   "metadata": {},
   "source": [
    "In any case, we find an nonsingular linear system,  \n",
    "so `G103` is an SSP graph."
   ]
  },
  {
   "cell_type": "markdown",
   "metadata": {},
   "source": [
    "#### `G104` is in Gssp"
   ]
  },
  {
   "cell_type": "code",
   "execution_count": 103,
   "metadata": {},
   "outputs": [
    {
     "data": {
      "image/png": "[encoded data removed]",
      "text/plain": [
       "Graphics object consisting of 13 graphics primitives"
      ]
     },
     "metadata": {},
     "output_type": "display_data"
    }
   ],
   "source": [
    "g = atlas[104]\n",
    "# V = [0, 1, 2, 3, 4, 5]\n",
    "# E = [(0, 1), (0, 4), (1, 2), (1, 5), (2, 3), (3, 4)]\n",
    "# g = Graph([V, E])\n",
    "g.show(figsize=[3,3])"
   ]
  },
  {
   "cell_type": "code",
   "execution_count": 104,
   "metadata": {},
   "outputs": [
    {
     "data": {
      "text/plain": [
       "[      0       0       0    a1_2       0   -a3_4       0       0       0]\n",
       "[      0   -a0_4       0       0       0    a2_3       0       0       0]\n",
       "[      0       0    a0_1       0       0       0    a1_2       0       0]\n",
       "[      0       0       0   -a1_5       0       0    a2_3 d3 - d5    a3_4]\n",
       "[      0       0       0       0       0       0 d2 - d5    a2_3       0]\n",
       "[   a0_1       0       0   -a2_3       0       0    a1_5       0       0]\n",
       "[      0   -a3_4       0       0    a0_1       0       0       0       0]\n",
       "[  -a1_2       0   -a1_5       0    a0_4       0       0       0       0]\n",
       "[      0       0 d0 - d5       0       0       0       0       0    a0_4]"
      ]
     },
     "execution_count": 104,
     "metadata": {},
     "output_type": "execute_result"
    }
   ],
   "source": [
    "### Similar to the technique in Example 3.16\n",
    "### we are looking for the equations (AX-XA)_{i,j} for i,j in alpha\n",
    "alpha = [(2,3), (3,4), (1,5), (3,5), (2,5), (1,2), (0,4), (0,1), (0,5)]\n",
    "### functions to build the eqations\n",
    "### see Gssp_sequence.sage for \n",
    "### the source code of SSPmatrix and var_matrix\n",
    "Psi, rind, cind = SSPmatrix(var_matrix(g), True)\n",
    "alpha_num = [rind[e] for e in alpha]\n",
    "M = Psi[alpha_num,:]\n",
    "M"
   ]
  },
  {
   "cell_type": "code",
   "execution_count": 105,
   "metadata": {},
   "outputs": [
    {
     "data": {
      "text/plain": [
       "2*a0_1^2*a0_4^2*a1_2*a1_5^2*a2_3*a3_4"
      ]
     },
     "execution_count": 105,
     "metadata": {},
     "output_type": "execute_result"
    }
   ],
   "source": [
    "p = M.determinant()\n",
    "p"
   ]
  },
  {
   "cell_type": "code",
   "execution_count": null,
   "metadata": {},
   "outputs": [],
   "source": []
  }
 ],
 "metadata": {
  "kernelspec": {
   "display_name": "SageMath 8.1",
   "language": "",
   "name": "sagemath"
  },
  "language_info": {
   "codemirror_mode": {
    "name": "ipython",
    "version": 2
   },
   "file_extension": ".py",
   "mimetype": "text/x-python",
   "name": "python",
   "nbconvert_exporter": "python",
   "pygments_lexer": "ipython2",
   "version": "2.7.17"
  }
 },
 "nbformat": 4,
 "nbformat_minor": 2
}
